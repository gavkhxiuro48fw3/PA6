{
 "cells": [
  {
   "cell_type": "markdown",
   "id": "c6c44dfc",
   "metadata": {},
   "source": [
    "## Gavin Trumbull\n",
    "# assignment 6, eric matthes, 2nd edition, spring 2023\n",
    "# CS150"
   ]
  },
  {
   "cell_type": "code",
   "execution_count": 10,
   "id": "4b98869c",
   "metadata": {},
   "outputs": [
    {
     "name": "stdout",
     "output_type": "stream",
     "text": [
      "Enter the length of side A: 2\n",
      "Enter the length of side B: 2\n",
      "Enter the length of side C: 2\n",
      "The area of the triangle is 1.7320508075688772\n",
      "The perimeter of the triangle is 6\n"
     ]
    }
   ],
   "source": [
    "def CalcArea(A=1,B=1,C=1):\n",
    "    return (((A+B+C)/2)*(((A+B+C)/2)-A)*(((A+B+C)/2)-B)*(((A+B+C)/2)-C))**0.5\n",
    "def CalcPerimeter(A,B,C):\n",
    "    return A+B+C\n",
    "A=int(input('Enter the length of side A: '))\n",
    "B=int(input('Enter the length of side B: ')) \n",
    "C=int(input('Enter the length of side C: '))\n",
    "print(f'The area of the triangle is {CalcArea(A,B,C)}')\n",
    "print(f'The perimeter of the triangle is {CalcPerimeter(A,B,C)}')"
   ]
  },
  {
   "cell_type": "code",
   "execution_count": 14,
   "id": "1776b6e4",
   "metadata": {},
   "outputs": [
    {
     "name": "stdout",
     "output_type": "stream",
     "text": [
      "guess a number between 1 and 1000: 1\n",
      "too low, try again\n",
      "guess a number between 1 and 1000: 500\n",
      "too low, try again\n",
      "guess a number between 1 and 1000: 750\n",
      "too high, try again\n",
      "guess a number between 1 and 1000: 600\n",
      "too low, try again\n",
      "guess a number between 1 and 1000: 700\n",
      "too high, try again\n",
      "guess a number between 1 and 1000: 650\n",
      "too high, try again\n",
      "guess a number between 1 and 1000: 625\n",
      "too high, try again\n",
      "guess a number between 1 and 1000: 610\n",
      "too low, try again\n",
      "guess a number between 1 and 1000: 620\n",
      "too low, try again\n",
      "guess a number between 1 and 1000: 623\n",
      "too low, try again\n",
      "guess a number between 1 and 1000: 624\n",
      "correct!\n"
     ]
    }
   ],
   "source": [
    "import random\n",
    "r=random.randint(1,1000)\n",
    "\n",
    "def evaluateGuess(r,e):   \n",
    "    return r-e\n",
    "evaluate=True\n",
    "while evaluate:\n",
    "    e=int(input('guess a number between 1 and 1000: '))\n",
    "    if evaluateGuess(r,e)==0:\n",
    "        print('correct!')\n",
    "        break\n",
    "    elif evaluateGuess(r,e)<0:\n",
    "        print('too high, try again')\n",
    "    else:\n",
    "        print('too low, try again')"
   ]
  },
  {
   "cell_type": "code",
   "execution_count": 72,
   "id": "2742a884",
   "metadata": {},
   "outputs": [
    {
     "name": "stdout",
     "output_type": "stream",
     "text": [
      "the mean temperature for the past 7 days is 93.0 degrees F.\n"
     ]
    }
   ],
   "source": [
    "def meanTemps(temps):\n",
    "    return print('the mean temperature for the past',len(temps),'days is', (sum(temps)/len(temps)) ,'degrees F.')\n",
    "temps = [91,92,93,94,95,96,90]\n",
    "meanTemps(temps)"
   ]
  },
  {
   "cell_type": "code",
   "execution_count": null,
   "id": "0482d121",
   "metadata": {},
   "outputs": [],
   "source": []
  }
 ],
 "metadata": {
  "kernelspec": {
   "display_name": "Python 3 (ipykernel)",
   "language": "python",
   "name": "python3"
  },
  "language_info": {
   "codemirror_mode": {
    "name": "ipython",
    "version": 3
   },
   "file_extension": ".py",
   "mimetype": "text/x-python",
   "name": "python",
   "nbconvert_exporter": "python",
   "pygments_lexer": "ipython3",
   "version": "3.9.13"
  }
 },
 "nbformat": 4,
 "nbformat_minor": 5
}
